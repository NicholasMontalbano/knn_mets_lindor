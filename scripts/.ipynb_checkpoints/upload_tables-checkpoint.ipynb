{
 "cells": [
  {
   "cell_type": "code",
   "execution_count": 1,
   "metadata": {},
   "outputs": [],
   "source": [
    "import psycopg2\n",
    "from psycopg2 import OperationalError\n",
    "import pandas as pd"
   ]
  },
  {
   "cell_type": "code",
   "execution_count": 2,
   "metadata": {},
   "outputs": [],
   "source": [
    "def create_connection(db_name, db_user, db_password, db_host, db_port):\n",
    "    connection = None\n",
    "    try:\n",
    "        connection = psycopg2.connect(\n",
    "            database=db_name,\n",
    "            user=db_user,\n",
    "            password=db_password,\n",
    "            host=db_host,\n",
    "            port=db_port,\n",
    "        )\n",
    "        print(\"Connection to PostgreSQL DB successful\")\n",
    "    except OperationalError as e:\n",
    "        print(f\"The error '{e}' occurred\")\n",
    "    return connection"
   ]
  },
  {
   "cell_type": "code",
   "execution_count": 3,
   "metadata": {},
   "outputs": [
    {
     "name": "stdout",
     "output_type": "stream",
     "text": [
      "Connection to PostgreSQL DB successful\n"
     ]
    }
   ],
   "source": [
    "connection = create_connection(\n",
    "    \"nicholasmontalbano\", \"postgres\", \"\", \"127.0.0.1\", \"5432\"\n",
    ")"
   ]
  },
  {
   "cell_type": "code",
   "execution_count": 4,
   "metadata": {},
   "outputs": [],
   "source": [
    "cursor = connection.cursor()"
   ]
  },
  {
   "cell_type": "code",
   "execution_count": 22,
   "metadata": {},
   "outputs": [],
   "source": [
    "cursor.execute(\"ROLLBACK\")\n",
    "connection.commit()"
   ]
  },
  {
   "cell_type": "code",
   "execution_count": 13,
   "metadata": {},
   "outputs": [
    {
     "data": {
      "text/plain": [
       "[('public', 'people_mlb', 'postgres', None, True, False, False, False),\n",
       " ('public', 'batting_mlb', 'postgres', None, False, False, False, False),\n",
       " ('public',\n",
       "  'old_people_mlb',\n",
       "  'nicholasmontalbano',\n",
       "  None,\n",
       "  False,\n",
       "  False,\n",
       "  False,\n",
       "  False),\n",
       " ('public',\n",
       "  'career_batting_mlb',\n",
       "  'postgres',\n",
       "  None,\n",
       "  False,\n",
       "  False,\n",
       "  False,\n",
       "  False),\n",
       " ('public', 'appearances_mlb', 'postgres', None, False, False, False, False)]"
      ]
     },
     "execution_count": 13,
     "metadata": {},
     "output_type": "execute_result"
    }
   ],
   "source": [
    "sql_command = \"\"\"SELECT *\n",
    "FROM pg_catalog.pg_tables\n",
    "WHERE schemaname != 'pg_catalog' AND \n",
    "    schemaname != 'information_schema';\"\"\"\n",
    "cursor.execute(sql_command)\n",
    "cursor.fetchall()"
   ]
  },
  {
   "cell_type": "code",
   "execution_count": null,
   "metadata": {},
   "outputs": [],
   "source": [
    "sql_command = \"\"\"CREATE TABLE people_MLB (\n",
    "    playerID varchar PRIMARY KEY, \n",
    "    birthYear integer,\n",
    "    birthMonth integer,\n",
    "    birthDay integer,\n",
    "    birthCountry varchar,\n",
    "    birthState varchar,\n",
    "    birthCity varchar,\n",
    "    deathYear integer,\n",
    "    deathMonth integer,\n",
    "    deathDay integer, \n",
    "    deathCountry varchar,\n",
    "    deathState varchar,\n",
    "    deathCity varchar,\n",
    "    nameFirst varchar,\n",
    "    nameLast varchar,\n",
    "    nameGiven varchar,\n",
    "    weight integer,\n",
    "    height integer,\n",
    "    bats varchar,\n",
    "    throws varchar,\n",
    "    debut date, \n",
    "    finalGame date, \n",
    "    retroID varchar,\n",
    "    bbrefID varchar\n",
    "); \"\"\"\n",
    "cursor.execute(sql_command)"
   ]
  },
  {
   "cell_type": "code",
   "execution_count": null,
   "metadata": {},
   "outputs": [],
   "source": [
    "f = open('../data/baseballdatabank-master/core/People.csv', 'r') \n",
    "cols = f.readline().split(',')\n",
    "cursor.copy_from(f, 'people_mlb', \",\", columns = cols, null=\"\")\n",
    "connection.commit()"
   ]
  },
  {
   "cell_type": "code",
   "execution_count": null,
   "metadata": {},
   "outputs": [],
   "source": [
    "sql_command = \"\"\"CREATE TABLE batting_MLB (\n",
    "    playerID varchar,\n",
    "    yearID varchar,\n",
    "    stint integer,\n",
    "    teamID varchar,\n",
    "    lgID varchar,\n",
    "    G integer,\n",
    "    AB integer,\n",
    "    R integer,\n",
    "    H integer,\n",
    "    DOUBLE integer, \n",
    "    TRIPLE integer,\n",
    "    HR integer,\n",
    "    RBI integer,\n",
    "    SB integer,\n",
    "    CS integer,\n",
    "    BB integer,\n",
    "    SO integer,\n",
    "    IBB integer,\n",
    "    HBP integer,\n",
    "    SH integer,\n",
    "    SF integer, \n",
    "    GIDP integer\n",
    "); \"\"\"\n",
    "cursor.execute(sql_command)"
   ]
  },
  {
   "cell_type": "code",
   "execution_count": null,
   "metadata": {},
   "outputs": [],
   "source": [
    "f = open('../data/baseballdatabank-master/core/Batting.csv', 'r') \n",
    "cols = f.readline().strip('\\n').split(',')\n",
    "cursor.copy_from(f, 'batting_mlb', \",\", columns = cols, null=\"\")\n",
    "connection.commit()"
   ]
  },
  {
   "cell_type": "code",
   "execution_count": null,
   "metadata": {},
   "outputs": [],
   "source": []
  },
  {
   "cell_type": "code",
   "execution_count": 26,
   "metadata": {},
   "outputs": [],
   "source": [
    "sql_command = \"\"\"CREATE TABLE appearances_mlb (\n",
    "    yearID varchar,\n",
    "    teamID varchar,\n",
    "    lgID varchar,\n",
    "    playerID varchar,\n",
    "    G_all integer,\n",
    "    GS integer,\n",
    "    G_batting integer,\n",
    "    G_defense integer,\n",
    "    G_p integer, \n",
    "    G_c integer,    \n",
    "    G_1b integer,\n",
    "    G_2b integer,\n",
    "    G_3b integer,\n",
    "    G_ss integer,\n",
    "    G_lf integer,\n",
    "    G_cf integer,\n",
    "    G_rf integer,\n",
    "    G_of integer,\n",
    "    G_dh integer,\n",
    "    G_ph integer,\n",
    "    G_pr integer\n",
    "); \"\"\"\n",
    "cursor.execute(sql_command)"
   ]
  },
  {
   "cell_type": "code",
   "execution_count": 27,
   "metadata": {},
   "outputs": [],
   "source": [
    "f = open('../data/baseballdatabank-master/core/appearances.csv', 'r') \n",
    "cols = f.readline().strip('\\n').split(',')\n",
    "cursor.copy_from(f, 'appearances_mlb', \",\", columns = cols, null=\"\")\n",
    "connection.commit()"
   ]
  },
  {
   "cell_type": "code",
   "execution_count": null,
   "metadata": {},
   "outputs": [],
   "source": []
  },
  {
   "cell_type": "code",
   "execution_count": null,
   "metadata": {},
   "outputs": [],
   "source": []
  },
  {
   "cell_type": "code",
   "execution_count": null,
   "metadata": {},
   "outputs": [],
   "source": [
    "sql_command = \"\"\"CREATE TABLE career_batting_mlb (\n",
    "    playerID varchar,\n",
    "    AB integer,\n",
    "    R integer,\n",
    "    H integer,\n",
    "    DOUBLE integer, \n",
    "    TRIPLE integer,\n",
    "    HR integer,\n",
    "    RBI integer,\n",
    "    SB integer,\n",
    "    CS integer,\n",
    "    BB integer,\n",
    "    SO integer,\n",
    "    IBB integer,\n",
    "    HBP integer,\n",
    "    SH integer,\n",
    "    SF integer, \n",
    "    GIDP integer,\n",
    "    G_all integer,\n",
    "    GS integer,\n",
    "    G_batting integer,\n",
    "    G_defense integer,\n",
    "    G_p integer, \n",
    "    G_c integer,    \n",
    "    G_1b integer,\n",
    "    G_2b integer,\n",
    "    G_3b integer,\n",
    "    G_ss integer,\n",
    "    G_lf integer,\n",
    "    G_cf integer,\n",
    "    G_rf integer,\n",
    "    G_of integer,\n",
    "    G_dh integer,\n",
    "    G_ph integer,\n",
    "    G_pr integer\n",
    "); \"\"\"\n",
    "cursor.execute(sql_command)"
   ]
  },
  {
   "cell_type": "code",
   "execution_count": null,
   "metadata": {},
   "outputs": [],
   "source": [
    "sql_command = \"\"\"INSERT INTO career_batting_mlb\n",
    "SELECT * FROM\n",
    "(SELECT playerID, \n",
    "SUM(AB), SUM(R), SUM(H), SUM(DOUBLE), SUM(TRIPLE), SUM(HR), SUM(RBI), SUM(SB), SUM(CS), SUM(BB), \n",
    "SUM(SO), SUM(IBB), SUM(HBP), SUM(SH), SUM(SF), SUM(GIDP)\n",
    "FROM batting_mlb\n",
    "GROUP BY playerID) a\n",
    "\n",
    "LEFT JOIN (\n",
    "SELECT playerID, \n",
    "SUM (G_all), SUM(GS), SUM(G_batting), SUM(G_defense), SUM(G_p), SUM(G_c), SUM(G_1b), SUM(G_2b), \n",
    "SUM(G_3b), SUM(G_ss), SUM(G_lf), SUM(G_cf), SUM(G_rf), SUM(G_of), SUM(G_dh), SUM(G_ph), SUM(G_pr)\n",
    "FROM appearances_mlb\n",
    "GROUP BY playerID) b\n",
    "\n",
    "USING(playerID)\n",
    "\"\"\"\n",
    "cursor.execute(sql_command)"
   ]
  },
  {
   "cell_type": "code",
   "execution_count": null,
   "metadata": {},
   "outputs": [],
   "source": []
  },
  {
   "cell_type": "code",
   "execution_count": null,
   "metadata": {},
   "outputs": [],
   "source": []
  },
  {
   "cell_type": "code",
   "execution_count": null,
   "metadata": {},
   "outputs": [],
   "source": []
  },
  {
   "cell_type": "code",
   "execution_count": null,
   "metadata": {},
   "outputs": [],
   "source": [
    "sql_command = \"\"\"\n",
    "ALTER TABLE career_batting_mlb\n",
    "ADD COLUMN PP varchar\n",
    "\"\"\"\n",
    "cursor.execute(sql_command)"
   ]
  },
  {
   "cell_type": "code",
   "execution_count": null,
   "metadata": {},
   "outputs": [],
   "source": [
    "sql_command = \"\"\"\n",
    "UPDATE career_batting_mlb \n",
    "SET PP = \n",
    "CASE greatest(G_c, G_1b, G_2b, G_3b, G_ss, G_of, G_dh)\n",
    "    WHEN G_c THEN 'catcher'\n",
    "    WHEN G_1b THEN '1b'\n",
    "    WHEN G_2b THEN '2b'\n",
    "    WHEN G_3b THEN '3b'\n",
    "    WHEN G_ss THEN 'ss'\n",
    "    WHEN G_of THEN 'of'\n",
    "    WHEN G_dh THEN 'dh'\n",
    "    ELSE 'NONE'\n",
    "END;\n",
    "\"\"\"\n",
    "cursor.execute(sql_command)"
   ]
  },
  {
   "cell_type": "code",
   "execution_count": null,
   "metadata": {},
   "outputs": [],
   "source": []
  },
  {
   "cell_type": "code",
   "execution_count": 25,
   "metadata": {},
   "outputs": [],
   "source": []
  },
  {
   "cell_type": "code",
   "execution_count": 24,
   "metadata": {},
   "outputs": [],
   "source": [
    "sql_command = \"SELECT * FROM appearances_mlb\"\n",
    "cursor.execute(sql_command)"
   ]
  },
  {
   "cell_type": "code",
   "execution_count": 17,
   "metadata": {},
   "outputs": [],
   "source": [
    "connection.commit()"
   ]
  },
  {
   "cell_type": "code",
   "execution_count": null,
   "metadata": {},
   "outputs": [],
   "source": []
  },
  {
   "cell_type": "code",
   "execution_count": null,
   "metadata": {},
   "outputs": [],
   "source": []
  },
  {
   "cell_type": "code",
   "execution_count": null,
   "metadata": {},
   "outputs": [],
   "source": []
  }
 ],
 "metadata": {
  "kernelspec": {
   "display_name": "Python 3",
   "language": "python",
   "name": "python3"
  },
  "language_info": {
   "codemirror_mode": {
    "name": "ipython",
    "version": 3
   },
   "file_extension": ".py",
   "mimetype": "text/x-python",
   "name": "python",
   "nbconvert_exporter": "python",
   "pygments_lexer": "ipython3",
   "version": "3.8.5"
  }
 },
 "nbformat": 4,
 "nbformat_minor": 4
}
